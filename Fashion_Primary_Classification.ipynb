{
 "cells": [
  {
   "cell_type": "markdown",
   "metadata": {},
   "source": [
    "## Fashion Dataset Project"
   ]
  },
  {
   "cell_type": "markdown",
   "metadata": {},
   "source": [
    "\n",
    "In this classification, the model will make predictions across three fashion categories: Glasses, Jeans, and Shoes."
   ]
  },
  {
   "cell_type": "code",
   "execution_count": null,
   "metadata": {},
   "outputs": [],
   "source": [
    "import tensorflow as tf\n",
    "import numpy as np\n",
    "import sklearn.metrics\n",
    "import matplotlib.pyplot as plt "
   ]
  },
  {
   "cell_type": "markdown",
   "metadata": {},
   "source": [
    "The required dataset has already been transformed from colored image with dimensions of 120 by 90 pixels into arrays, and then stored in .npz files."
   ]
  },
  {
   "cell_type": "code",
   "execution_count": 2,
   "metadata": {},
   "outputs": [],
   "source": [
    "# Loading the dataset\n",
    "data_train = np.load(r\"Primary categories - Train.npz\")\n",
    "data_val = np.load(r\"Primary categories - Validation.npz\")\n",
    "data_test = np.load(r\"Primary categories - Test.npz\")"
   ]
  },
  {
   "cell_type": "code",
   "execution_count": 3,
   "metadata": {},
   "outputs": [],
   "source": [
    "# Extracting the arrays from the imported data\n",
    "images_train = data_train[\"images\"]\n",
    "labels_train = data_train[\"labels\"]\n",
    "\n",
    "images_val = data_val[\"images\"]\n",
    "labels_val = data_val[\"labels\"]\n",
    "\n",
    "images_test = data_test[\"images\"]\n",
    "labels_test = data_test[\"labels\"]"
   ]
  },
  {
   "cell_type": "code",
   "execution_count": 4,
   "metadata": {},
   "outputs": [
    {
     "name": "stdout",
     "output_type": "stream",
     "text": [
      "Number of trained data is 12963\n",
      "Number of validation data is 1620\n",
      "Number of test data is 1620\n"
     ]
    }
   ],
   "source": [
    "# Checking the quantity of the data \n",
    "len_train = len(images_train)\n",
    "len_val = len(images_val)\n",
    "len_test = len(images_test)\n",
    "\n",
    "print(\"Number of trained data is {}\" .format(len_train))\n",
    "print(\"Number of validation data is {}\" .format(len_val))\n",
    "print(\"Number of test data is {}\" .format(len_test))"
   ]
  },
  {
   "cell_type": "code",
   "execution_count": 5,
   "metadata": {},
   "outputs": [],
   "source": [
    "# Scaling the pixel values of all images\n",
    "images_train = images_train/255.0\n",
    "images_val = images_val/255.0\n",
    "images_test = images_test/255.0"
   ]
  },
  {
   "cell_type": "code",
   "execution_count": null,
   "metadata": {},
   "outputs": [],
   "source": [
    "# Creating the Model\n",
    "Epochs = 15\n",
    "Batch_Size = 64\n",
    "\n",
    "model = tf.keras.Sequential([\n",
    "    tf.keras.layers.Conv2D(32, 3, activation = \"relu\", input_shape = (120,90,3)),\n",
    "    tf.keras.layers.MaxPooling2D(pool_size=(2,2)),\n",
    "    tf.keras.layers.Conv2D(32, 3,activation = \"relu\"),\n",
    "    tf.keras.layers.MaxPooling2D(pool_size=(2,2)),\n",
    "    tf.keras.layers.Flatten(),\n",
    "    tf.keras.layers.Dense(3)\n",
    "])"
   ]
  },
  {
   "cell_type": "code",
   "execution_count": 7,
   "metadata": {},
   "outputs": [],
   "source": [
    "# Define the loss function to measures how good the model is performing\n",
    "loss_function = tf.keras.losses.SparseCategoricalCrossentropy(from_logits = True)\n",
    "\n",
    "# Defining early stopping to prevent overfitting\n",
    "early_stopping = tf.keras.callbacks.EarlyStopping(\n",
    "    monitor = \"val_loss\",\n",
    "    mode = \"auto\",\n",
    "    min_delta = 0,\n",
    "    patience = 2,\n",
    "    verbose = 0,\n",
    "    restore_best_weights = True\n",
    ")"
   ]
  },
  {
   "cell_type": "code",
   "execution_count": null,
   "metadata": {},
   "outputs": [],
   "source": [
    "# Compiling the model\n",
    "model.compile(optimizer = \"Adam\", loss = loss_function, metrics = [\"accuracy\"])"
   ]
  },
  {
   "cell_type": "code",
   "execution_count": 9,
   "metadata": {},
   "outputs": [
    {
     "name": "stdout",
     "output_type": "stream",
     "text": [
      "Epoch 1/15\n",
      "WARNING:tensorflow:From c:\\Users\\A-R\\AppData\\Local\\Programs\\Python\\Python311\\Lib\\site-packages\\keras\\src\\utils\\tf_utils.py:492: The name tf.ragged.RaggedTensorValue is deprecated. Please use tf.compat.v1.ragged.RaggedTensorValue instead.\n",
      "\n",
      "WARNING:tensorflow:From c:\\Users\\A-R\\AppData\\Local\\Programs\\Python\\Python311\\Lib\\site-packages\\keras\\src\\engine\\base_layer_utils.py:384: The name tf.executing_eagerly_outside_functions is deprecated. Please use tf.compat.v1.executing_eagerly_outside_functions instead.\n",
      "\n",
      "203/203 - 29s - loss: 0.0865 - accuracy: 0.9729 - val_loss: 0.0051 - val_accuracy: 0.9994 - 29s/epoch - 141ms/step\n",
      "Epoch 2/15\n",
      "203/203 - 24s - loss: 0.0126 - accuracy: 0.9986 - val_loss: 0.0032 - val_accuracy: 0.9994 - 24s/epoch - 116ms/step\n",
      "Epoch 3/15\n",
      "203/203 - 23s - loss: 0.0078 - accuracy: 0.9991 - val_loss: 0.0047 - val_accuracy: 0.9994 - 23s/epoch - 114ms/step\n",
      "Epoch 4/15\n",
      "203/203 - 26s - loss: 0.0058 - accuracy: 0.9994 - val_loss: 0.0055 - val_accuracy: 0.9981 - 26s/epoch - 129ms/step\n"
     ]
    },
    {
     "data": {
      "text/plain": [
       "<keras.src.callbacks.History at 0x1ae2566d350>"
      ]
     },
     "execution_count": 9,
     "metadata": {},
     "output_type": "execute_result"
    }
   ],
   "source": [
    "# Training the model\n",
    "model.fit(images_train, labels_train, epochs = Epochs, batch_size = Batch_Size,\n",
    "callbacks = [early_stopping], validation_data = (images_val, labels_val), verbose = 2)"
   ]
  },
  {
   "cell_type": "code",
   "execution_count": 10,
   "metadata": {},
   "outputs": [
    {
     "name": "stdout",
     "output_type": "stream",
     "text": [
      "51/51 [==============================] - 1s 20ms/step - loss: 0.0032 - accuracy: 0.9994\n"
     ]
    }
   ],
   "source": [
    "# Evaluating the model's performance on the validation set\n",
    "validation_loss, validation_accuracy = model.evaluate(images_val,labels_val)"
   ]
  },
  {
   "cell_type": "code",
   "execution_count": 12,
   "metadata": {},
   "outputs": [
    {
     "name": "stdout",
     "output_type": "stream",
     "text": [
      "51/51 [==============================] - 1s 18ms/step\n"
     ]
    }
   ],
   "source": [
    "# Predecting the test data\n",
    "test_pred_raw = model.predict(images_test)\n",
    "test_pred = np.argmax(test_pred_raw, axis=1)"
   ]
  },
  {
   "cell_type": "code",
   "execution_count": 13,
   "metadata": {},
   "outputs": [],
   "source": [
    "# Confusion Matrix for the Test Data\n",
    "from sklearn.metrics import confusion_matrix\n",
    "import seaborn as sns\n",
    "\n",
    "cm = confusion_matrix(labels_test, test_pred)\n",
    "cm = np.around(cm.astype('float') / cm.sum(axis=1)[:, np.newaxis], decimals=2)"
   ]
  },
  {
   "cell_type": "code",
   "execution_count": 14,
   "metadata": {},
   "outputs": [
    {
     "data": {
      "text/plain": [
       "[Text(0, 0.5, 'Glasses/Sunglasses'),\n",
       " Text(0, 1.5, 'Trousers/Jeans'),\n",
       " Text(0, 2.5, 'Shoes')]"
      ]
     },
     "execution_count": 14,
     "metadata": {},
     "output_type": "execute_result"
    },
    {
     "data": {
      "image/png": "[encoded data removed]",
      "text/plain": [
       "<Figure size 640x480 with 2 Axes>"
      ]
     },
     "metadata": {},
     "output_type": "display_data"
    }
   ],
   "source": [
    "cm = confusion_matrix(labels_test, test_pred)\n",
    "class_names=['Glasses/Sunglasses', 'Trousers/Jeans', 'Shoes']\n",
    "ax = plt.subplot()\n",
    "sns.heatmap(cm, annot=True, cmap='Blues',fmt='g', ax=ax)\n",
    "ax.set_xlabel('Predicted labels');ax.set_ylabel('True labels')\n",
    "ax.set_title('Confusion Matrix') \n",
    "ax.xaxis.set_ticklabels(class_names, rotation=45) \n",
    "ax.yaxis.set_ticklabels(class_names, rotation=45)"
   ]
  },
  {
   "cell_type": "code",
   "execution_count": 15,
   "metadata": {},
   "outputs": [
    {
     "name": "stdout",
     "output_type": "stream",
     "text": [
      "51/51 [==============================] - 1s 22ms/step - loss: 0.0205 - accuracy: 0.9975\n"
     ]
    }
   ],
   "source": [
    "# Testing the model\n",
    "test_loss, test_accuracy = model.evaluate(images_test, labels_test)"
   ]
  },
  {
   "cell_type": "markdown",
   "metadata": {},
   "source": [
    "### Conclusion"
   ]
  },
  {
   "cell_type": "markdown",
   "metadata": {},
   "source": [
    "The outcome indicates that the model exhibits great performance, attaining a high degree of accuracy due to the distinct nature of the data across the three categories. Consequently, the model was able to make accurate predictions with relative ease."
   ]
  }
 ],
 "metadata": {
  "kernelspec": {
   "display_name": "Python 3",
   "language": "python",
   "name": "python3"
  },
  "language_info": {
   "codemirror_mode": {
    "name": "ipython",
    "version": 3
   },
   "file_extension": ".py",
   "mimetype": "text/x-python",
   "name": "python",
   "nbconvert_exporter": "python",
   "pygments_lexer": "ipython3",
   "version": "3.11.8"
  }
 },
 "nbformat": 4,
 "nbformat_minor": 2
}
